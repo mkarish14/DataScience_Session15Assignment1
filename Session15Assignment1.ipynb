{
 "cells": [
  {
   "cell_type": "code",
   "execution_count": 5,
   "metadata": {},
   "outputs": [
    {
     "name": "stdout",
     "output_type": "stream",
     "text": [
      "Standard Deviation 367.9900360969936\n",
      "Variatnce 6219.9\n",
      "Probability of students failed in subject 1  0.125\n",
      "Probability of students failed in subject 2  0.0875\n",
      "Probability of students failed in subject 3  0.0375\n"
     ]
    }
   ],
   "source": [
    "import statistics as stat\n",
    "\n",
    "\"\"\"\n",
    "You survey households in your area to find the average rent they are paying. Find the\n",
    "standard deviation from the following data:\n",
    "$1550,$1700,$900,$850,$1000,$950.\n",
    "\"\"\"\n",
    "homerent = [1550,1700,900,850,1000,950]\n",
    "print(str(\"Standard Deviation \" + str(stat.stdev(homerent))))\n",
    "\n",
    "\"\"\"Find the variance for the following set of data representing trees in California (heights in\n",
    "feet):\n",
    "3, 21, 98, 203, 17, 9\n",
    "\"\"\"\n",
    "trees_California=[3,21,98,203,17,9]\n",
    "print(str(\"Variatnce \" + str(stat.variance(trees_California))))\n",
    "\n",
    "\"\"\"\n",
    "In a class on 100 students, 80 students passed in all subjects, 10 failed in one subject, 7\n",
    "failed in two subjects and 3 failed in three subjects. Find the probability distribution of\n",
    "the variable for number of subjects a student from the given class has failed in.\n",
    "\"\"\"\n",
    "Probability_stuents_failedsub1 = 10/80\n",
    "Probability_stuents_failedsub2 = 7/80\n",
    "Probability_stuents_failedsub3 = 3/80\n",
    "\n",
    "\n",
    "print(\"Probability of students failed in subject 1 \",Probability_stuents_failedsub1)\n",
    "print(\"Probability of students failed in subject 2 \",Probability_stuents_failedsub2)\n",
    "print(\"Probability of students failed in subject 3 \",Probability_stuents_failedsub3)\n",
    "\n",
    "\n"
   ]
  },
  {
   "cell_type": "code",
   "execution_count": null,
   "metadata": {
    "collapsed": true
   },
   "outputs": [],
   "source": []
  }
 ],
 "metadata": {
  "kernelspec": {
   "display_name": "Python 3",
   "language": "python",
   "name": "python3"
  },
  "language_info": {
   "codemirror_mode": {
    "name": "ipython",
    "version": 3
   },
   "file_extension": ".py",
   "mimetype": "text/x-python",
   "name": "python",
   "nbconvert_exporter": "python",
   "pygments_lexer": "ipython3",
   "version": "3.6.3"
  }
 },
 "nbformat": 4,
 "nbformat_minor": 2
}
